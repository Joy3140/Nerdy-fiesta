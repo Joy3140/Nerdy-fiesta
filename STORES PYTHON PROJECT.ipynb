{
 "cells": [
  {
   "cell_type": "markdown",
   "id": "4f6d3e40",
   "metadata": {},
   "source": [
    "# Basic Exploratory Analysis on Stores Sales and customer Distribution"
   ]
  },
  {
   "cell_type": "code",
   "execution_count": 3,
   "id": "ccf002c8",
   "metadata": {},
   "outputs": [],
   "source": [
    "# import necessary libraries\n",
    "import numpy as np\n",
    "import pandas as pd\n",
    "import seaborn as sns\n",
    "import matplotlib.pyplot as plt"
   ]
  },
  {
   "cell_type": "markdown",
   "id": "3fb6147a",
   "metadata": {},
   "source": [
    "### DATA INSPECTION AND MANIPULATION"
   ]
  },
  {
   "cell_type": "code",
   "execution_count": 5,
   "id": "b51bd793",
   "metadata": {},
   "outputs": [
    {
     "data": {
      "text/html": [
       "<div>\n",
       "<style scoped>\n",
       "    .dataframe tbody tr th:only-of-type {\n",
       "        vertical-align: middle;\n",
       "    }\n",
       "\n",
       "    .dataframe tbody tr th {\n",
       "        vertical-align: top;\n",
       "    }\n",
       "\n",
       "    .dataframe thead th {\n",
       "        text-align: right;\n",
       "    }\n",
       "</style>\n",
       "<table border=\"1\" class=\"dataframe\">\n",
       "  <thead>\n",
       "    <tr style=\"text-align: right;\">\n",
       "      <th></th>\n",
       "      <th>Store ID</th>\n",
       "      <th>Store_Area</th>\n",
       "      <th>Items_Available</th>\n",
       "      <th>Daily_Customer_Count</th>\n",
       "      <th>Store_Sales</th>\n",
       "    </tr>\n",
       "  </thead>\n",
       "  <tbody>\n",
       "    <tr>\n",
       "      <th>0</th>\n",
       "      <td>1</td>\n",
       "      <td>1659</td>\n",
       "      <td>1961</td>\n",
       "      <td>530</td>\n",
       "      <td>66490</td>\n",
       "    </tr>\n",
       "    <tr>\n",
       "      <th>1</th>\n",
       "      <td>2</td>\n",
       "      <td>1461</td>\n",
       "      <td>1752</td>\n",
       "      <td>210</td>\n",
       "      <td>39820</td>\n",
       "    </tr>\n",
       "    <tr>\n",
       "      <th>2</th>\n",
       "      <td>3</td>\n",
       "      <td>1340</td>\n",
       "      <td>1609</td>\n",
       "      <td>720</td>\n",
       "      <td>54010</td>\n",
       "    </tr>\n",
       "    <tr>\n",
       "      <th>3</th>\n",
       "      <td>4</td>\n",
       "      <td>1451</td>\n",
       "      <td>1748</td>\n",
       "      <td>620</td>\n",
       "      <td>53730</td>\n",
       "    </tr>\n",
       "    <tr>\n",
       "      <th>4</th>\n",
       "      <td>5</td>\n",
       "      <td>1770</td>\n",
       "      <td>2111</td>\n",
       "      <td>450</td>\n",
       "      <td>46620</td>\n",
       "    </tr>\n",
       "    <tr>\n",
       "      <th>...</th>\n",
       "      <td>...</td>\n",
       "      <td>...</td>\n",
       "      <td>...</td>\n",
       "      <td>...</td>\n",
       "      <td>...</td>\n",
       "    </tr>\n",
       "    <tr>\n",
       "      <th>891</th>\n",
       "      <td>892</td>\n",
       "      <td>1582</td>\n",
       "      <td>1910</td>\n",
       "      <td>1080</td>\n",
       "      <td>66390</td>\n",
       "    </tr>\n",
       "    <tr>\n",
       "      <th>892</th>\n",
       "      <td>893</td>\n",
       "      <td>1387</td>\n",
       "      <td>1663</td>\n",
       "      <td>850</td>\n",
       "      <td>82080</td>\n",
       "    </tr>\n",
       "    <tr>\n",
       "      <th>893</th>\n",
       "      <td>894</td>\n",
       "      <td>1200</td>\n",
       "      <td>1436</td>\n",
       "      <td>1060</td>\n",
       "      <td>76440</td>\n",
       "    </tr>\n",
       "    <tr>\n",
       "      <th>894</th>\n",
       "      <td>895</td>\n",
       "      <td>1299</td>\n",
       "      <td>1560</td>\n",
       "      <td>770</td>\n",
       "      <td>96610</td>\n",
       "    </tr>\n",
       "    <tr>\n",
       "      <th>895</th>\n",
       "      <td>896</td>\n",
       "      <td>1174</td>\n",
       "      <td>1429</td>\n",
       "      <td>1110</td>\n",
       "      <td>54340</td>\n",
       "    </tr>\n",
       "  </tbody>\n",
       "</table>\n",
       "<p>896 rows × 5 columns</p>\n",
       "</div>"
      ],
      "text/plain": [
       "     Store ID   Store_Area  Items_Available  Daily_Customer_Count  Store_Sales\n",
       "0            1        1659             1961                   530        66490\n",
       "1            2        1461             1752                   210        39820\n",
       "2            3        1340             1609                   720        54010\n",
       "3            4        1451             1748                   620        53730\n",
       "4            5        1770             2111                   450        46620\n",
       "..         ...         ...              ...                   ...          ...\n",
       "891        892        1582             1910                  1080        66390\n",
       "892        893        1387             1663                   850        82080\n",
       "893        894        1200             1436                  1060        76440\n",
       "894        895        1299             1560                   770        96610\n",
       "895        896        1174             1429                  1110        54340\n",
       "\n",
       "[896 rows x 5 columns]"
      ]
     },
     "execution_count": 5,
     "metadata": {},
     "output_type": "execute_result"
    }
   ],
   "source": [
    "# load and read the dataset\n",
    "Stores_data = pd.read_csv(r\"C:\\Users\\joyom\\OneDrive\\Stores.csv\")\n",
    "Stores_data"
   ]
  },
  {
   "cell_type": "code",
   "execution_count": 6,
   "id": "ef788332",
   "metadata": {},
   "outputs": [
    {
     "data": {
      "text/plain": [
       "(896, 5)"
      ]
     },
     "execution_count": 6,
     "metadata": {},
     "output_type": "execute_result"
    }
   ],
   "source": [
    "# shape of the data\n",
    "Stores_data.shape"
   ]
  },
  {
   "cell_type": "code",
   "execution_count": 7,
   "id": "c3eb3f67",
   "metadata": {},
   "outputs": [
    {
     "data": {
      "text/plain": [
       "Index(['Store ID ', 'Store_Area', 'Items_Available', 'Daily_Customer_Count',\n",
       "       'Store_Sales'],\n",
       "      dtype='object')"
      ]
     },
     "execution_count": 7,
     "metadata": {},
     "output_type": "execute_result"
    }
   ],
   "source": [
    "# check the columns\n",
    "Stores_data.columns"
   ]
  },
  {
   "cell_type": "code",
   "execution_count": 8,
   "id": "e7b65131",
   "metadata": {},
   "outputs": [
    {
     "data": {
      "text/plain": [
       "Store ID                int64\n",
       "Store_Area              int64\n",
       "Items_Available         int64\n",
       "Daily_Customer_Count    int64\n",
       "Store_Sales             int64\n",
       "dtype: object"
      ]
     },
     "execution_count": 8,
     "metadata": {},
     "output_type": "execute_result"
    }
   ],
   "source": [
    "# check the data types\n",
    "Stores_data.dtypes"
   ]
  },
  {
   "cell_type": "code",
   "execution_count": 9,
   "id": "1ac51cfc",
   "metadata": {},
   "outputs": [
    {
     "name": "stdout",
     "output_type": "stream",
     "text": [
      "<class 'pandas.core.frame.DataFrame'>\n",
      "RangeIndex: 896 entries, 0 to 895\n",
      "Data columns (total 5 columns):\n",
      " #   Column                Non-Null Count  Dtype\n",
      "---  ------                --------------  -----\n",
      " 0   Store ID              896 non-null    int64\n",
      " 1   Store_Area            896 non-null    int64\n",
      " 2   Items_Available       896 non-null    int64\n",
      " 3   Daily_Customer_Count  896 non-null    int64\n",
      " 4   Store_Sales           896 non-null    int64\n",
      "dtypes: int64(5)\n",
      "memory usage: 35.1 KB\n"
     ]
    }
   ],
   "source": [
    "# info about the data\n",
    "Stores_data.info()"
   ]
  },
  {
   "cell_type": "code",
   "execution_count": 20,
   "id": "a414503a",
   "metadata": {},
   "outputs": [
    {
     "name": "stdout",
     "output_type": "stream",
     "text": [
      "The Store_Area with the highest Store_Sales is: 1440\n",
      "The Store Sales for this Area is: 362330\n"
     ]
    }
   ],
   "source": [
    "# Which Store Area has the highest Store Sales and what is the Store_Sales?\n",
    "Stores_data = pd.read_csv(r\"C:\\Users\\joyom\\OneDrive\\Stores.csv\")\n",
    "sales_by_area = Stores_data.groupby('Store_Area')['Store_Sales'].sum()\n",
    "highest_sales_area = sales_by_area.sort_values(ascending=False).index[0]\n",
    "highest_sales = sales_by_area[highest_sales_area]\n",
    "print(\"The Store_Area with the highest Store_Sales is:\", highest_sales_area)\n",
    "print(\"The Store Sales for this Area is:\", highest_sales)"
   ]
  },
  {
   "cell_type": "code",
   "execution_count": 19,
   "id": "6a4e2ece",
   "metadata": {},
   "outputs": [
    {
     "data": {
      "image/png": "[encoded data removed]",
      "text/plain": [
       "<Figure size 640x480 with 1 Axes>"
      ]
     },
     "metadata": {},
     "output_type": "display_data"
    }
   ],
   "source": [
    "import matplotlib.pyplot as plt\n",
    "\n",
    "# Calculate total sales by store\n",
    "sales_by_store = Stores_data.groupby('Store_Area')['Store_Sales'].sum()\n",
    "\n",
    "# Find store with highest sales\n",
    "highest_sales_store = sales_by_store.sort_values(ascending=False).index[0]\n",
    "\n",
    "# Filter data for store with highest sales\n",
    "highest_sales_data = Stores_data[Stores_data['Store_Area'] == highest_sales_store]\n",
    "\n",
    "# Create bar chart of sales for store with highest sales\n",
    "plt.bar(highest_sales_data['Store_Area'], highest_sales_data['Store_Sales'])\n",
    "plt.title('Sales by Store Area for ' + str(highest_sales_store))\n",
    "plt.xlabel('Store Area')\n",
    "plt.ylabel('Sales')\n",
    "plt.show()\n",
    "\n",
    "\n"
   ]
  },
  {
   "cell_type": "code",
   "execution_count": 21,
   "id": "50bd86c3",
   "metadata": {},
   "outputs": [
    {
     "name": "stdout",
     "output_type": "stream",
     "text": [
      "The Store Area with the highest Daily Customer Count is: 919\n"
     ]
    }
   ],
   "source": [
    "# Which Stores had the Highest daily customer count?\n",
    "# Calculate average daily customer count by store area\n",
    "avg_cust_by_area = Stores_data.groupby('Store_Area')['Daily_Customer_Count'].mean()\n",
    "\n",
    "# Find store area with highest daily customer count\n",
    "highest_cust_area = avg_cust_by_area.sort_values(ascending=False).index[0]\n",
    "\n",
    "# Print result\n",
    "print(\"The Store Area with the highest Daily Customer Count is:\", highest_cust_area)\n"
   ]
  },
  {
   "cell_type": "code",
   "execution_count": 22,
   "id": "63c5c2fc",
   "metadata": {},
   "outputs": [
    {
     "name": "stdout",
     "output_type": "stream",
     "text": [
      "The Store Sales for the Store Area with the highest Daily Customer Count is: 73810\n"
     ]
    }
   ],
   "source": [
    "# what is the store sales for the highest daily customer count?\n",
    "# Calculate average daily customer count and total sales by store area\n",
    "area_data = Stores_data.groupby('Store_Area').agg({'Daily_Customer_Count': 'mean', 'Store_Sales': 'sum'})\n",
    "\n",
    "# Find store area with highest daily customer count\n",
    "highest_cust_area = area_data.sort_values('Daily_Customer_Count', ascending=False).index[0]\n",
    "highest_sales = area_data.loc[highest_cust_area, 'Store_Sales']\n",
    "\n",
    "# Print result\n",
    "print(\"The Store Sales for the Store Area with the highest Daily Customer Count is:\", highest_sales)\n"
   ]
  },
  {
   "cell_type": "code",
   "execution_count": 23,
   "id": "e12f242d",
   "metadata": {},
   "outputs": [
    {
     "name": "stdout",
     "output_type": "stream",
     "text": [
      "The Daily Customer Count for Store_Area 1440 is: 1120\n"
     ]
    }
   ],
   "source": [
    "# What is the highest daily customer count for Store_Area 1440?\n",
    "\n",
    "# Filter data for Store_Area 1440\n",
    "store_data = Stores_data[Stores_data['Store_Area'] == 1440]\n",
    "\n",
    "# Retrieve Daily_Customer_Count value\n",
    "daily_cust_count = store_data['Daily_Customer_Count'].values[0]\n",
    "\n",
    "# Print result\n",
    "print(\"The Daily Customer Count for Store_Area 1440 is:\", daily_cust_count)\n"
   ]
  },
  {
   "cell_type": "code",
   "execution_count": 24,
   "id": "16abc55a",
   "metadata": {},
   "outputs": [
    {
     "name": "stdout",
     "output_type": "stream",
     "text": [
      "The Daily Customer Count for Store_Area 919 is: 1560\n"
     ]
    }
   ],
   "source": [
    "# What is the highest daily customer count for Store_Area 919?\n",
    "\n",
    "# Filter data for Store_Area 919\n",
    "store_data = Stores_data[Stores_data['Store_Area'] == 919]\n",
    "\n",
    "# Retrieve Daily_Customer_Count value\n",
    "daily_cust_count = store_data['Daily_Customer_Count'].values[0]\n",
    "\n",
    "# Print result\n",
    "print(\"The Daily Customer Count for Store_Area 919 is:\", daily_cust_count)\n"
   ]
  },
  {
   "cell_type": "code",
   "execution_count": 25,
   "id": "17c5cadd",
   "metadata": {},
   "outputs": [
    {
     "name": "stdout",
     "output_type": "stream",
     "text": [
      "The Store Area with the lowest Store Sales is: 1876\n",
      "The Store Sales for this Area is: 21650\n"
     ]
    }
   ],
   "source": [
    "# Calculate total sales by store area\n",
    "sales_by_area = Stores_data.groupby('Store_Area')['Store_Sales'].sum()\n",
    "\n",
    "# Find store area with lowest sales\n",
    "lowest_sales_area = sales_by_area.sort_values(ascending=True).index[0]\n",
    "lowest_sales = sales_by_area[lowest_sales_area]\n",
    "\n",
    "# Print result\n",
    "print(\"The Store Area with the lowest Store Sales is:\", lowest_sales_area)\n",
    "print(\"The Store Sales for this Area is:\", lowest_sales)\n",
    "\n"
   ]
  },
  {
   "cell_type": "code",
   "execution_count": 26,
   "id": "ef0fb193",
   "metadata": {},
   "outputs": [
    {
     "name": "stdout",
     "output_type": "stream",
     "text": [
      "The Daily Customer Count for Store_Area 1876 is: 1340\n"
     ]
    }
   ],
   "source": [
    "# What is the daily customer count for store area 1876?\n",
    "\n",
    "# Filter data for Store_Area 1876\n",
    "store_data = Stores_data[Stores_data['Store_Area'] == 1876]\n",
    "\n",
    "# Retrieve Daily_Customer_Count value\n",
    "daily_cust_count = store_data['Daily_Customer_Count'].values[0]\n",
    "\n",
    "# Print result\n",
    "print(\"The Daily Customer Count for Store_Area 1876 is:\", daily_cust_count)\n"
   ]
  },
  {
   "cell_type": "code",
   "execution_count": 5,
   "id": "c0f3961a",
   "metadata": {},
   "outputs": [
    {
     "data": {
      "image/png": "[encoded data removed]",
      "text/plain": [
       "<Figure size 640x480 with 1 Axes>"
      ]
     },
     "metadata": {},
     "output_type": "display_data"
    }
   ],
   "source": [
    "# plot a graph showing the different store sales from the different store area using a bar chart?\n",
    "import matplotlib.pyplot as plt\n",
    "import pandas as pd\n",
    "Stores_data = pd.read_csv(r\"C:\\Users\\joyom\\OneDrive\\Stores.csv\")\n",
    "# Group the data by store area and calculate the total sales for each area\n",
    "sales_by_area = Stores_data.groupby('Store_Area')['Store_Sales'].sum()\n",
    "\n",
    "# Create a bar chart of the sales by store area\n",
    "plt.bar(sales_by_area.index, sales_by_area.values)\n",
    "plt.xlabel('Store_Area')\n",
    "plt.ylabel('Store_Sales')\n",
    "plt.title('Total Sales by Store_Area')\n",
    "plt.show()\n"
   ]
  },
  {
   "cell_type": "markdown",
   "id": "1e46e997",
   "metadata": {},
   "source": [
    "#### THE BAR CHART SHOWS THAT THE STORE AREA 1400 HAS THE HIGHEST STORE SALES WHILE THE STORE AREA 1876 HAS THE LOWEST STORE SALES "
   ]
  },
  {
   "cell_type": "code",
   "execution_count": null,
   "id": "cea357ef",
   "metadata": {},
   "outputs": [],
   "source": []
  }
 ],
 "metadata": {
  "kernelspec": {
   "display_name": "Python 3 (ipykernel)",
   "language": "python",
   "name": "python3"
  },
  "language_info": {
   "codemirror_mode": {
    "name": "ipython",
    "version": 3
   },
   "file_extension": ".py",
   "mimetype": "text/x-python",
   "name": "python",
   "nbconvert_exporter": "python",
   "pygments_lexer": "ipython3",
   "version": "3.11.3"
  }
 },
 "nbformat": 4,
 "nbformat_minor": 5
}
